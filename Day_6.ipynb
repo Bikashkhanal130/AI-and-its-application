{
  "nbformat": 4,
  "nbformat_minor": 0,
  "metadata": {
    "colab": {
      "provenance": [],
      "authorship_tag": "ABX9TyPxTK31HxeW+yu7sJ0xus0n",
      "include_colab_link": true
    },
    "kernelspec": {
      "name": "python3",
      "display_name": "Python 3"
    },
    "language_info": {
      "name": "python"
    }
  },
  "cells": [
    {
      "cell_type": "markdown",
      "metadata": {
        "id": "view-in-github",
        "colab_type": "text"
      },
      "source": [
        "<a href=\"https://colab.research.google.com/github/Bikashkhanal130/AI-and-its-application/blob/main/Day_6.ipynb\" target=\"_parent\"><img src=\"https://colab.research.google.com/assets/colab-badge.svg\" alt=\"Open In Colab\"/></a>"
      ]
    },
    {
      "cell_type": "markdown",
      "source": [
        "#  Hands on Practice: Pandas and Matplotlib"
      ],
      "metadata": {
        "id": "srOpsnG5vMJs"
      }
    },
    {
      "cell_type": "markdown",
      "source": [
        "# Exercise 1: Creating a Pandas Series"
      ],
      "metadata": {
        "id": "EsnAKHBLvqPQ"
      }
    },
    {
      "cell_type": "markdown",
      "source": [
        "# Pandas Series = 1 - D array with labels"
      ],
      "metadata": {
        "id": "Y0KKrv5Tvu6u"
      }
    },
    {
      "cell_type": "code",
      "execution_count": null,
      "metadata": {
        "colab": {
          "base_uri": "https://localhost:8080/"
        },
        "id": "8OhoPF0gKkLW",
        "outputId": "22d1f918-0f44-4b64-fd6b-bfbc75cbdfae"
      },
      "outputs": [
        {
          "output_type": "stream",
          "name": "stdout",
          "text": [
            "Maths        56\n",
            "Science      89\n",
            "English      35\n",
            "History      80\n",
            "Geography    91\n",
            "dtype: int64\n"
          ]
        }
      ],
      "source": [
        "import pandas as pd\n",
        "scores = pd.Series([56,89,35,80,91], index = [\"Maths\", \"Science\", \"English\", \"History\", \"Geography\"])\n",
        "print(scores)"
      ]
    },
    {
      "cell_type": "markdown",
      "source": [
        "# Task 1: Create a Pandas Series with a values [10,20,30,40] and indices [\"A\", \"B\", \"C\", \"D\"]. Print the Series"
      ],
      "metadata": {
        "id": "B-mHXfepwN8q"
      }
    },
    {
      "cell_type": "code",
      "source": [
        "import pandas as pd\n",
        "scores = pd.Series([10,20,30,40], index = [\"A\", \"B\", \"C\", \"D\",])\n",
        "print(scores)"
      ],
      "metadata": {
        "colab": {
          "base_uri": "https://localhost:8080/"
        },
        "id": "IusHl-BiTCcz",
        "outputId": "6720062d-ece7-46e7-b52f-b47057d0a2e3"
      },
      "execution_count": null,
      "outputs": [
        {
          "output_type": "stream",
          "name": "stdout",
          "text": [
            "A    10\n",
            "B    20\n",
            "C    30\n",
            "D    40\n",
            "dtype: int64\n"
          ]
        }
      ]
    },
    {
      "cell_type": "markdown",
      "source": [
        "# Exercise 2: Creating a Pandas DataFrame"
      ],
      "metadata": {
        "id": "QlYILVzUwm9S"
      }
    },
    {
      "cell_type": "markdown",
      "source": [
        " Dataframe is in a table format"
      ],
      "metadata": {
        "id": "YJMJmJx-wybv"
      }
    },
    {
      "cell_type": "code",
      "source": [
        "# Creating a dictionary\n",
        "data = {\n",
        "     \"Name\": [\"Aarav\", \"Bikram\", \"Cherry\"],\n",
        "     \"Age\" : [15, 56, 12],\n",
        "     \"City\" : [\"Delhi\", \"Kathmandu\", \"Sharjah\"],\n",
        "     \"Country\" : [\"India\", \"Nepal\", \"Dubai\"]\n",
        "}\n",
        "\n",
        "# Turning Dictionary into a dataframe\n",
        "df = pd.DataFrame(data)\n",
        "\n",
        "# Printing the Dataframe\n",
        "print(df)\n",
        "\n",
        "# Printing dataframe without index\n",
        "\n",
        "print(df.to_string(index=False))\n"
      ],
      "metadata": {
        "colab": {
          "base_uri": "https://localhost:8080/"
        },
        "id": "wL8XrIqowla-",
        "outputId": "3bf073f0-0b98-4597-a743-6e6e238359cb"
      },
      "execution_count": null,
      "outputs": [
        {
          "output_type": "stream",
          "name": "stdout",
          "text": [
            "     Name  Age       City Country\n",
            "0   Aarav   15      Delhi   India\n",
            "1  Bikram   56  Kathmandu   Nepal\n",
            "2  Cherry   12    Sharjah   Dubai\n",
            "  Name  Age      City Country\n",
            " Aarav   15     Delhi   India\n",
            "Bikram   56 Kathmandu   Nepal\n",
            "Cherry   12   Sharjah   Dubai\n"
          ]
        }
      ]
    },
    {
      "cell_type": "markdown",
      "source": [
        "# Create a DataFrame with colums \"City\" ([\"Paris\", \"Tokyo\", \"Sydney\"]) and \"Population\" ([2.1, 37.4, 5.3]). Print the DataFrame"
      ],
      "metadata": {
        "id": "ZUNJjrN_yVOO"
      }
    },
    {
      "cell_type": "code",
      "source": [
        "data = {\n",
        "    \"Name\" : [\"Paris\", \"Tokyo\", \"Sydney\"],\n",
        "    \"Population\" : [2.1, 37.4, 5.3]\n",
        "}\n",
        "\n",
        "df = pd.DataFrame(data)\n",
        "print(df)"
      ],
      "metadata": {
        "colab": {
          "base_uri": "https://localhost:8080/"
        },
        "id": "dXeJVH8exZWE",
        "outputId": "19ef669c-ffea-45dc-c06e-c1375a71ff08"
      },
      "execution_count": null,
      "outputs": [
        {
          "output_type": "stream",
          "name": "stdout",
          "text": [
            "     Name  Population\n",
            "0   Paris         2.1\n",
            "1   Tokyo        37.4\n",
            "2  Sydney         5.3\n"
          ]
        }
      ]
    },
    {
      "cell_type": "markdown",
      "source": [
        "# Exercise 3: Filtering Data in a  DataFrame"
      ],
      "metadata": {
        "id": "HI23si9ozif-"
      }
    },
    {
      "cell_type": "code",
      "source": [
        "# Creating a dictionary\n",
        "data = {\n",
        "     \"Name\": [\"Aarav\", \"Bikram\", \"Cherry\"],\n",
        "     \"Age\" : [15, 56, 12],\n",
        "     \"City\" : [\"Delhi\", \"Kathmandu\", \"Sharjah\"],\n",
        "     \"Country\" : [\"India\", \"Nepal\", \"Dubai\"]\n",
        "}\n",
        "\n",
        "# Turning Dictionary into a dataframe\n",
        "df = pd.DataFrame(data)\n",
        "\n",
        "# Printing the Dataframe\n",
        "print(df)\n",
        "\n",
        "#Filtering\n",
        "\n",
        "filter = df[df[\"Age\"] > 15]\n",
        "print(filter)"
      ],
      "metadata": {
        "colab": {
          "base_uri": "https://localhost:8080/"
        },
        "id": "zx4UseghzAe1",
        "outputId": "fad0eba4-0f6a-4346-c955-ddc1f0bad1ff"
      },
      "execution_count": null,
      "outputs": [
        {
          "output_type": "stream",
          "name": "stdout",
          "text": [
            "     Name  Age       City Country\n",
            "0   Aarav   15      Delhi   India\n",
            "1  Bikram   56  Kathmandu   Nepal\n",
            "2  Cherry   12    Sharjah   Dubai\n",
            "     Name  Age       City Country\n",
            "1  Bikram   56  Kathmandu   Nepal\n"
          ]
        }
      ]
    },
    {
      "cell_type": "markdown",
      "source": [
        "# Exercise 4: reading and processing a CSV File"
      ],
      "metadata": {
        "id": "-xYDM8W30Rz9"
      }
    },
    {
      "cell_type": "markdown",
      "source": [
        "# Create a DataFrame with columns \"Name\" ([\"Eve\", \"Frank\", \"Grace\" abd \"Age\" ([19, 23, 20)]. Filter rows where Age is greater than 20 and print the result."
      ],
      "metadata": {
        "id": "u4rqzFxd0dMs"
      }
    },
    {
      "cell_type": "code",
      "source": [
        "data = {\n",
        "    \"Name\" : [\"Eve\", \"Frank\", \"Grace\"],\n",
        "    \"Age\" : [19, 23, 20]\n",
        "}\n",
        "\n",
        "df = pd.DataFrame(data)\n",
        "print(df)\n",
        "\n",
        "filter = df[df[\"Age\"] > 20]\n"
      ],
      "metadata": {
        "colab": {
          "base_uri": "https://localhost:8080/"
        },
        "id": "gqnLLbFJzwmO",
        "outputId": "805ccd76-2a44-4bb5-f6bc-9d36fce1d362"
      },
      "execution_count": null,
      "outputs": [
        {
          "output_type": "stream",
          "name": "stdout",
          "text": [
            "    Name  Age\n",
            "0    Eve   19\n",
            "1  Frank   23\n",
            "2  Grace   20\n"
          ]
        }
      ]
    },
    {
      "cell_type": "code",
      "source": [
        "import io\n",
        "import pandas as pd\n",
        "\n",
        "# Creating a CSV file\n",
        "csv_data = \"\"\"\n",
        "Name,Grade\n",
        "Sushil,1\n",
        "Arpan,2\n",
        "Rohit,3\n",
        "\"\"\"\n",
        "\n",
        "# Reading the CSV file\n",
        "df = pd.read_csv(io.StringIO(csv_data))\n",
        "print(df)\n",
        "\n",
        "# Calculate average grade\n",
        "average_grade = df['Grade'].mean()\n",
        "print(f\"Average Grade: {average_grade}\")\n"
      ],
      "metadata": {
        "colab": {
          "base_uri": "https://localhost:8080/"
        },
        "id": "DTt3XHLV010v",
        "outputId": "6a4da3f6-9adf-431b-ad17-39e37256d612"
      },
      "execution_count": null,
      "outputs": [
        {
          "output_type": "stream",
          "name": "stdout",
          "text": [
            "     Name  Grade\n",
            "0  Sushil      1\n",
            "1   Arpan      2\n",
            "2   Rohit      3\n",
            "Average Grade: 2.0\n"
          ]
        }
      ]
    },
    {
      "cell_type": "markdown",
      "source": [
        "# Task 4: Simulate a CSV String with column \"Product\" ([\"Apple\", \"banana\", \"orange\"]) and \"Price\" ([1.0, 0.5, 0.75]). read it into a dataframe and print the sum of price using df[\"price\"]. sum()."
      ],
      "metadata": {
        "id": "EO-A3K171uyL"
      }
    },
    {
      "cell_type": "code",
      "source": [
        "import io\n",
        "import pandas as pd\n",
        "\n",
        "csv_data = \"\"\"\n",
        "Product,Price\n",
        "Apple,1.0\n",
        "Banana,0.5\n",
        "orange,0.75\n",
        " \"\"\"\n",
        "\n",
        "df = pd.read_csv(io.StringIO(csv_data))\n",
        "print(df)\n",
        "\n",
        "sum_of_price = df[\"Price\"].sum()\n",
        "print(f\"Sum of Price: {sum_of_price}\")\n"
      ],
      "metadata": {
        "colab": {
          "base_uri": "https://localhost:8080/"
        },
        "id": "4xmCHIcU1cRe",
        "outputId": "9b5d9ebd-ce61-4c38-f1ec-aadd45f620e3"
      },
      "execution_count": null,
      "outputs": [
        {
          "output_type": "stream",
          "name": "stdout",
          "text": [
            "  Product  Price\n",
            "0   Apple   1.00\n",
            "1  Banana   0.50\n",
            "2  orange   0.75\n",
            "Sum of Price: 2.25\n"
          ]
        }
      ]
    },
    {
      "cell_type": "markdown",
      "source": [
        "# Exercise 5: Basic Plotting with Matplotlib"
      ],
      "metadata": {
        "id": "fd5FzuwR2WF1"
      }
    },
    {
      "cell_type": "code",
      "source": [
        "import matplotlib.pyplot as plt\n",
        "\n",
        "x = [1, 2, 3, 4, 5]\n",
        "y = [6, 7, 8, 9, 10]\n",
        "\n",
        "plt.plot(x, y, marker='o')\n",
        "\n"
      ],
      "metadata": {
        "id": "zhuRBgsT3P-C",
        "colab": {
          "base_uri": "https://localhost:8080/",
          "height": 447
        },
        "outputId": "b3c3569f-f171-4a75-d8ef-d1ce63759b69"
      },
      "execution_count": 1,
      "outputs": [
        {
          "output_type": "execute_result",
          "data": {
            "text/plain": [
              "[<matplotlib.lines.Line2D at 0x796438395d50>]"
            ]
          },
          "metadata": {},
          "execution_count": 1
        },
        {
          "output_type": "display_data",
          "data": {
            "text/plain": [
              "<Figure size 640x480 with 1 Axes>"
            ],
            "image/png": "[encoded data removed]"
          },
          "metadata": {}
        }
      ]
    },
    {
      "cell_type": "code",
      "source": [],
      "metadata": {
        "id": "sItcicz32pnX"
      },
      "execution_count": null,
      "outputs": []
    }
  ]
}