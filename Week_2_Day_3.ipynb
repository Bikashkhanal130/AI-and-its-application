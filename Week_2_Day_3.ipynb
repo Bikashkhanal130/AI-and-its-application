{
  "nbformat": 4,
  "nbformat_minor": 0,
  "metadata": {
    "colab": {
      "provenance": [],
      "authorship_tag": "ABX9TyNWLgOc3XK4+Yj5D/2omsgI",
      "include_colab_link": true
    },
    "kernelspec": {
      "name": "python3",
      "display_name": "Python 3"
    },
    "language_info": {
      "name": "python"
    }
  },
  "cells": [
    {
      "cell_type": "markdown",
      "metadata": {
        "id": "view-in-github",
        "colab_type": "text"
      },
      "source": [
        "<a href=\"https://colab.research.google.com/github/Bikashkhanal130/AI-and-its-application/blob/main/Week_2_Day_3.ipynb\" target=\"_parent\"><img src=\"https://colab.research.google.com/assets/colab-badge.svg\" alt=\"Open In Colab\"/></a>"
      ]
    },
    {
      "cell_type": "markdown",
      "source": [
        "# Hands on Practice: Probability Basics for AI"
      ],
      "metadata": {
        "id": "0_6QAcM-Ip_x"
      }
    },
    {
      "cell_type": "markdown",
      "source": [
        "# Exercise 1: THEORETICAL PROBABILITY"
      ],
      "metadata": {
        "id": "hFtM55-MIvSx"
      }
    },
    {
      "cell_type": "code",
      "execution_count": null,
      "metadata": {
        "colab": {
          "base_uri": "https://localhost:8080/"
        },
        "id": "htliCb4hIjt8",
        "outputId": "017a5e84-55fa-4239-8fd3-443cfb29b239"
      },
      "outputs": [
        {
          "output_type": "stream",
          "name": "stdout",
          "text": [
            "0.16666666666666666\n",
            "0.5\n",
            "0.16666666666666666\n",
            "0.5\n"
          ]
        }
      ],
      "source": [
        "# Declaring favorite and total outcome for rolling 1 on a die!\n",
        "\n",
        "favourable_outcome = 1\n",
        "total_outcome = 6\n",
        "\n",
        "probability = favourable_outcome/total_outcome\n",
        "print(probability)\n",
        "\n",
        "\n",
        "# TASK 1: Calculate the theoretical probability of drawing a red card from a standard deck of 52 cards(26 re cards). print the result.\n",
        "\n",
        "favourable_outcome = 26\n",
        "total_outcome = 52\n",
        "\n",
        "probability = favourable_outcome/total_outcome\n",
        "print(probability)\n"
      ]
    },
    {
      "cell_type": "markdown",
      "source": [
        "# EXPERIMENTAL PROBABILITY"
      ],
      "metadata": {
        "id": "N6Nue2TVLayH"
      }
    },
    {
      "cell_type": "code",
      "source": [
        "import random\n",
        "\n",
        "trials = 100\n",
        "heads = 0\n",
        "\n",
        "for _ in range(trials):\n",
        "  if random.choice([\"Heads\", \"Tails\"]) == \"Heads\":\n",
        "    heads+= 1\n",
        "\n",
        "probability = heads/trials\n",
        "print(probability)"
      ],
      "metadata": {
        "colab": {
          "base_uri": "https://localhost:8080/"
        },
        "id": "hdQAo1_zJ0Fx",
        "outputId": "ea1bee7e-4ea3-436b-f256-65db399478c9"
      },
      "execution_count": null,
      "outputs": [
        {
          "output_type": "stream",
          "name": "stdout",
          "text": [
            "0.53\n"
          ]
        }
      ]
    },
    {
      "cell_type": "markdown",
      "source": [
        "# Conditional probability"
      ],
      "metadata": {
        "id": "tokv_EoqN4Z1"
      }
    },
    {
      "cell_type": "markdown",
      "source": [
        "#IN-CLASS TASK\n",
        "# A standard deck has 52 cards. There are 12 face cards (Jack, Queen, King – 4 of each).\n",
        "# What is the probability that a card is a King given that it’s a face card?\n",
        "\n",
        "# Out of 100 days, it rained on 30 days.\n",
        "# On 25 of those rainy days, a person carried an umbrella.\n",
        "# What is the probability that they carried an umbrella given that it was raining?\n",
        "\n",
        "# Out of 80 students, 50 studied for the exam.\n",
        "# Out of those 50, 45 passed.\n",
        "# What is the probability a student passed given that they studied?"
      ],
      "metadata": {
        "id": "C8-F9f5XOu8z"
      }
    },
    {
      "cell_type": "markdown",
      "source": [
        "# QSN 1"
      ],
      "metadata": {
        "id": "22224Z4gQcTh"
      }
    },
    {
      "cell_type": "code",
      "source": [
        "king_card = 4\n",
        "total_card = 12\n",
        "\n",
        "probability = king_card/total_card\n",
        "print(probability)"
      ],
      "metadata": {
        "colab": {
          "base_uri": "https://localhost:8080/"
        },
        "id": "zy_K2e0LMV6z",
        "outputId": "4adc0526-0658-4661-dc4f-4bf07ba9b69f"
      },
      "execution_count": null,
      "outputs": [
        {
          "output_type": "stream",
          "name": "stdout",
          "text": [
            "0.3333333333333333\n"
          ]
        }
      ]
    },
    {
      "cell_type": "markdown",
      "source": [
        "# QSN 2"
      ],
      "metadata": {
        "id": "SGXo7FqHQd1x"
      }
    },
    {
      "cell_type": "code",
      "source": [
        "total_number_of_days = 100\n",
        "rainy_days = 30\n",
        "umbrella_on_rainy_days = 25\n",
        "\n",
        "probability =umbrella_on_rainy_days/rainy_days\n",
        "print(probability)\n"
      ],
      "metadata": {
        "colab": {
          "base_uri": "https://localhost:8080/"
        },
        "id": "qWaVTCZuOZlE",
        "outputId": "5f73cb53-ea39-4259-e08c-0940115ec14e"
      },
      "execution_count": null,
      "outputs": [
        {
          "output_type": "stream",
          "name": "stdout",
          "text": [
            "0.8333333333333334\n"
          ]
        }
      ]
    },
    {
      "cell_type": "markdown",
      "source": [
        "# QSN 3"
      ],
      "metadata": {
        "id": "Fa7MMv8IQfFZ"
      }
    },
    {
      "cell_type": "code",
      "source": [
        "total_number_of_students = 80\n",
        "total_number_of_students_studied = 45\n",
        "total_student_passed = 50\n",
        "\n",
        "probability = total_number_of_students_studied/total_student_passed\n",
        "print(probability)"
      ],
      "metadata": {
        "colab": {
          "base_uri": "https://localhost:8080/"
        },
        "id": "C-hktElRPUD3",
        "outputId": "ddb8c093-4aa5-4127-b3a3-13db2f2aedf2"
      },
      "execution_count": null,
      "outputs": [
        {
          "output_type": "stream",
          "name": "stdout",
          "text": [
            "0.9\n"
          ]
        }
      ]
    },
    {
      "cell_type": "markdown",
      "source": [
        "# Exercise 4: Addition Rule"
      ],
      "metadata": {
        "id": "wPxB_WILRTGY"
      }
    },
    {
      "cell_type": "code",
      "source": [
        "# Mutually exclusive events\n",
        "\n",
        "prob_even = 3 / 6\n",
        "prob_odd = 1 / 6\n",
        "\n",
        "prob_even_or_odd = prob_even + prob_odd\n",
        "print(prob_even_or_odd)"
      ],
      "metadata": {
        "colab": {
          "base_uri": "https://localhost:8080/"
        },
        "id": "v6G7bwJgRAXf",
        "outputId": "4d9a9835-4c3b-4cdd-e184-7a16d039902f"
      },
      "execution_count": null,
      "outputs": [
        {
          "output_type": "stream",
          "name": "stdout",
          "text": [
            "0.6666666666666666\n"
          ]
        }
      ]
    },
    {
      "cell_type": "markdown",
      "source": [
        "# Task 4: Calculate the probability of drawing a heart or a club from a desk (13 hearts, 13 club)\n",
        "\n"
      ],
      "metadata": {
        "id": "YtQv2LTtSjCB"
      }
    },
    {
      "cell_type": "code",
      "source": [
        "card_heart = 13/52\n",
        "card_club = 13/42\n",
        "probability = card_heart + card_club\n",
        "print(probability)"
      ],
      "metadata": {
        "colab": {
          "base_uri": "https://localhost:8080/"
        },
        "id": "9rF5afyzR7zA",
        "outputId": "d11d0e12-8d1b-42bc-b7e8-4c3242f236ab"
      },
      "execution_count": null,
      "outputs": [
        {
          "output_type": "stream",
          "name": "stdout",
          "text": [
            "0.5595238095238095\n"
          ]
        }
      ]
    },
    {
      "cell_type": "markdown",
      "source": [
        "# Exercise 5: Multiplication Rule (Independent Events)"
      ],
      "metadata": {
        "id": "GiUh7JRkTkyP"
      }
    },
    {
      "cell_type": "code",
      "source": [
        "prob_head = 0.5\n",
        "prob_two_head = prob_head * prob_head\n",
        "print(prob_two_head)"
      ],
      "metadata": {
        "colab": {
          "base_uri": "https://localhost:8080/"
        },
        "id": "gkIFHgc0TfCV",
        "outputId": "98421f83-3127-4f1f-8f59-ef34f984ab23"
      },
      "execution_count": null,
      "outputs": [
        {
          "output_type": "stream",
          "name": "stdout",
          "text": [
            "0.25\n"
          ]
        }
      ]
    },
    {
      "cell_type": "markdown",
      "source": [
        "# Calculate the probability of rolling a 6 twice in a row with a siz-sided die print the result.\n",
        "\n",
        "# What is the probability of getting head on a coin toss and 7 on a 6 - sided die roll?\n"
      ],
      "metadata": {
        "id": "LiRE5S99T0vS"
      }
    },
    {
      "cell_type": "markdown",
      "source": [
        "# Dependent Events"
      ],
      "metadata": {
        "id": "BNWtVbkYVj9K"
      }
    },
    {
      "cell_type": "code",
      "source": [
        "# Lets calcualte the probability of drawing two aces without replacement from a desk of 52 cards\n",
        "\n",
        "total_cards = 52\n",
        "total_aces = 4\n",
        "\n",
        "prob_of_first_ace = total_aces / total_cards\n",
        "prob_of_second_ace = (total_aces - 1) / (total_cards - 1)\n",
        "\n",
        "probability = prob_of_first_ace * prob_of_second_ace\n",
        "print(probability)"
      ],
      "metadata": {
        "colab": {
          "base_uri": "https://localhost:8080/"
        },
        "id": "4IDCgJxlTxlG",
        "outputId": "8b40ca37-f0fe-4214-ce4a-bae56eed9cc0"
      },
      "execution_count": null,
      "outputs": [
        {
          "output_type": "stream",
          "name": "stdout",
          "text": [
            "0.004524886877828055\n"
          ]
        }
      ]
    },
    {
      "cell_type": "markdown",
      "source": [
        "# Task 6: Calculate the probability of drawing two red cards without replacement from a deck (26 red cards, 52 total). print the result"
      ],
      "metadata": {
        "id": "batdHf3cW8JW"
      }
    },
    {
      "cell_type": "code",
      "source": [
        "total_cards = 52\n",
        "total_red_cards = 26\n",
        "\n",
        "prob_of_first_cards = total_red_cards / total_cards\n",
        "prob_of_second_cards = (total_red_cards - 1) / (total_cards - 1)\n",
        "\n",
        "probability = prob_of_first_cards * prob_of_second_cards\n",
        "\n",
        "print(probability)"
      ],
      "metadata": {
        "colab": {
          "base_uri": "https://localhost:8080/"
        },
        "id": "Gz1-hY-pWGdy",
        "outputId": "4d83599f-4caf-4269-f4dc-052e3e258942"
      },
      "execution_count": null,
      "outputs": [
        {
          "output_type": "stream",
          "name": "stdout",
          "text": [
            "0.24509803921568626\n"
          ]
        }
      ]
    },
    {
      "cell_type": "code",
      "source": [],
      "metadata": {
        "id": "5BeO-vHCXtqA"
      },
      "execution_count": null,
      "outputs": []
    }
  ]
}